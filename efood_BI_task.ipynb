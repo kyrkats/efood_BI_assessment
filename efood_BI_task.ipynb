{
 "cells": [
  {
   "cell_type": "markdown",
   "id": "dynamic-modeling",
   "metadata": {},
   "source": [
    "# efood BI Assessment\n",
    "### March 2021"
   ]
  },
  {
   "cell_type": "markdown",
   "id": "fourth-facing",
   "metadata": {},
   "source": [
    "### Work on BigQuery"
   ]
  },
  {
   "cell_type": "markdown",
   "id": "assisted-inspector",
   "metadata": {},
   "source": [
    "Since I didn't have the required permissions to connect with BigQuery's API, I had to download the 'orders_jan2021' table as csv in order to load it in the notebook and work with it."
   ]
  },
  {
   "cell_type": "markdown",
   "id": "constitutional-waste",
   "metadata": {},
   "source": [
    "### 0. Import libraries"
   ]
  },
  {
   "cell_type": "code",
   "execution_count": 1,
   "id": "sound-sussex",
   "metadata": {},
   "outputs": [],
   "source": [
    "import pandas as pd\n",
    "import numpy as np\n",
    "import datetime as dt\n",
    "import seaborn as sn\n",
    "import matplotlib\n",
    "import matplotlib.pyplot as plt\n",
    "\n",
    "import warnings\n",
    "warnings.filterwarnings('ignore')"
   ]
  },
  {
   "cell_type": "markdown",
   "id": "derived-injury",
   "metadata": {},
   "source": [
    "### 1. Load and Explore the dataset"
   ]
  },
  {
   "cell_type": "markdown",
   "id": "portuguese-carry",
   "metadata": {},
   "source": [
    "##### a. Data load and manipulation"
   ]
  },
  {
   "cell_type": "code",
   "execution_count": 2,
   "id": "copyrighted-strain",
   "metadata": {},
   "outputs": [
    {
     "name": "stdout",
     "output_type": "stream",
     "text": [
      "(400000, 8)\n",
      "order_id          0\n",
      "brand             0\n",
      "submit_dt         0\n",
      "user_id           0\n",
      "shop_id           0\n",
      "city              0\n",
      "cuisine_parent    0\n",
      "basket            0\n",
      "dtype: int64\n",
      "<class 'pandas.core.frame.DataFrame'>\n",
      "RangeIndex: 400000 entries, 0 to 399999\n",
      "Data columns (total 8 columns):\n",
      " #   Column          Non-Null Count   Dtype  \n",
      "---  ------          --------------   -----  \n",
      " 0   order_id        400000 non-null  int64  \n",
      " 1   brand           400000 non-null  object \n",
      " 2   submit_dt       400000 non-null  object \n",
      " 3   user_id         400000 non-null  int64  \n",
      " 4   shop_id         400000 non-null  int64  \n",
      " 5   city            400000 non-null  object \n",
      " 6   cuisine_parent  400000 non-null  object \n",
      " 7   basket          400000 non-null  float64\n",
      "dtypes: float64(1), int64(3), object(4)\n",
      "memory usage: 24.4+ MB\n",
      "None\n"
     ]
    },
    {
     "data": {
      "text/html": [
       "<div>\n",
       "<style scoped>\n",
       "    .dataframe tbody tr th:only-of-type {\n",
       "        vertical-align: middle;\n",
       "    }\n",
       "\n",
       "    .dataframe tbody tr th {\n",
       "        vertical-align: top;\n",
       "    }\n",
       "\n",
       "    .dataframe thead th {\n",
       "        text-align: right;\n",
       "    }\n",
       "</style>\n",
       "<table border=\"1\" class=\"dataframe\">\n",
       "  <thead>\n",
       "    <tr style=\"text-align: right;\">\n",
       "      <th></th>\n",
       "      <th>order_id</th>\n",
       "      <th>brand</th>\n",
       "      <th>submit_dt</th>\n",
       "      <th>user_id</th>\n",
       "      <th>shop_id</th>\n",
       "      <th>city</th>\n",
       "      <th>cuisine_parent</th>\n",
       "      <th>basket</th>\n",
       "    </tr>\n",
       "  </thead>\n",
       "  <tbody>\n",
       "    <tr>\n",
       "      <th>290528</th>\n",
       "      <td>2878252643</td>\n",
       "      <td>GR-EFOOD</td>\n",
       "      <td>2021-01-22 14:54:39 UTC</td>\n",
       "      <td>4326300</td>\n",
       "      <td>233256927</td>\n",
       "      <td>Τρίκαλα</td>\n",
       "      <td>Breakfast</td>\n",
       "      <td>6.4</td>\n",
       "    </tr>\n",
       "    <tr>\n",
       "      <th>127318</th>\n",
       "      <td>2833793580</td>\n",
       "      <td>GR-EFOOD</td>\n",
       "      <td>2021-01-09 23:33:51 UTC</td>\n",
       "      <td>96721808</td>\n",
       "      <td>188493330</td>\n",
       "      <td>Κιλκίς</td>\n",
       "      <td>Italian</td>\n",
       "      <td>12.7</td>\n",
       "    </tr>\n",
       "    <tr>\n",
       "      <th>2580</th>\n",
       "      <td>2808649713</td>\n",
       "      <td>GR-EFOOD</td>\n",
       "      <td>2021-01-02 22:23:44 UTC</td>\n",
       "      <td>88027302</td>\n",
       "      <td>188124678</td>\n",
       "      <td>Γρεβενά</td>\n",
       "      <td>Meat</td>\n",
       "      <td>7.0</td>\n",
       "    </tr>\n",
       "    <tr>\n",
       "      <th>195194</th>\n",
       "      <td>2854785860</td>\n",
       "      <td>GR-EFOOD</td>\n",
       "      <td>2021-01-15 21:58:14 UTC</td>\n",
       "      <td>4023804</td>\n",
       "      <td>174353517</td>\n",
       "      <td>Τρίπολη</td>\n",
       "      <td>Creperie</td>\n",
       "      <td>3.0</td>\n",
       "    </tr>\n",
       "    <tr>\n",
       "      <th>46354</th>\n",
       "      <td>2869491319</td>\n",
       "      <td>GR-EFOOD</td>\n",
       "      <td>2021-01-19 22:33:40 UTC</td>\n",
       "      <td>187921868</td>\n",
       "      <td>209982003</td>\n",
       "      <td>Λάρισα</td>\n",
       "      <td>Meat</td>\n",
       "      <td>6.2</td>\n",
       "    </tr>\n",
       "  </tbody>\n",
       "</table>\n",
       "</div>"
      ],
      "text/plain": [
       "          order_id     brand                submit_dt    user_id    shop_id  \\\n",
       "290528  2878252643  GR-EFOOD  2021-01-22 14:54:39 UTC    4326300  233256927   \n",
       "127318  2833793580  GR-EFOOD  2021-01-09 23:33:51 UTC   96721808  188493330   \n",
       "2580    2808649713  GR-EFOOD  2021-01-02 22:23:44 UTC   88027302  188124678   \n",
       "195194  2854785860  GR-EFOOD  2021-01-15 21:58:14 UTC    4023804  174353517   \n",
       "46354   2869491319  GR-EFOOD  2021-01-19 22:33:40 UTC  187921868  209982003   \n",
       "\n",
       "           city cuisine_parent  basket  \n",
       "290528  Τρίκαλα      Breakfast     6.4  \n",
       "127318   Κιλκίς        Italian    12.7  \n",
       "2580    Γρεβενά           Meat     7.0  \n",
       "195194  Τρίπολη       Creperie     3.0  \n",
       "46354    Λάρισα           Meat     6.2  "
      ]
     },
     "execution_count": 2,
     "metadata": {},
     "output_type": "execute_result"
    }
   ],
   "source": [
    "# Load the data\n",
    "orders_Jan21 = pd.read_csv(\"orders_Jan21.csv\")\n",
    "\n",
    "# Check the size of the loaded dataframe\n",
    "print(orders_Jan21.shape)\n",
    "\n",
    "# Check for missing values\n",
    "print(orders_Jan21.isna().sum().sort_values(ascending=False))\n",
    "\n",
    "# Get the data type info\n",
    "print(orders_Jan21.info())\n",
    "\n",
    "# Look at a random sample of 10 rows\n",
    "orders_Jan21.sample(5)\n",
    "\n"
   ]
  },
  {
   "cell_type": "markdown",
   "id": "macro-rendering",
   "metadata": {},
   "source": [
    "The submit_dt type is object, so it's better to turn it into a datetime format to be easier on working with that. Then we will parse the date and time from that and make tow new columns that hold the date and time of the order seperately."
   ]
  },
  {
   "cell_type": "code",
   "execution_count": 3,
   "id": "spoken-genre",
   "metadata": {
    "scrolled": true
   },
   "outputs": [
    {
     "name": "stdout",
     "output_type": "stream",
     "text": [
      "<class 'pandas.core.frame.DataFrame'>\n",
      "RangeIndex: 400000 entries, 0 to 399999\n",
      "Data columns (total 8 columns):\n",
      " #   Column          Non-Null Count   Dtype              \n",
      "---  ------          --------------   -----              \n",
      " 0   order_id        400000 non-null  int64              \n",
      " 1   brand           400000 non-null  object             \n",
      " 2   submit_dt       400000 non-null  datetime64[ns, UTC]\n",
      " 3   user_id         400000 non-null  int64              \n",
      " 4   shop_id         400000 non-null  int64              \n",
      " 5   city            400000 non-null  object             \n",
      " 6   cuisine_parent  400000 non-null  object             \n",
      " 7   basket          400000 non-null  float64            \n",
      "dtypes: datetime64[ns, UTC](1), float64(1), int64(3), object(3)\n",
      "memory usage: 24.4+ MB\n"
     ]
    }
   ],
   "source": [
    "orders_Jan21['submit_dt'] = pd.to_datetime(orders_Jan21['submit_dt'], format = '%Y-%m-%d %H:%M:%S %Z')\n",
    "orders_Jan21.info()"
   ]
  },
  {
   "cell_type": "code",
   "execution_count": 4,
   "id": "united-married",
   "metadata": {},
   "outputs": [
    {
     "name": "stdout",
     "output_type": "stream",
     "text": [
      "<class 'pandas.core.frame.DataFrame'>\n",
      "RangeIndex: 400000 entries, 0 to 399999\n",
      "Data columns (total 11 columns):\n",
      " #   Column          Non-Null Count   Dtype              \n",
      "---  ------          --------------   -----              \n",
      " 0   order_id        400000 non-null  int64              \n",
      " 1   brand           400000 non-null  object             \n",
      " 2   submit_dt       400000 non-null  datetime64[ns, UTC]\n",
      " 3   user_id         400000 non-null  int64              \n",
      " 4   shop_id         400000 non-null  int64              \n",
      " 5   city            400000 non-null  object             \n",
      " 6   cuisine_parent  400000 non-null  object             \n",
      " 7   basket          400000 non-null  float64            \n",
      " 8   submit_date     400000 non-null  object             \n",
      " 9   submit_time     400000 non-null  object             \n",
      " 10  day_name        400000 non-null  object             \n",
      "dtypes: datetime64[ns, UTC](1), float64(1), int64(3), object(6)\n",
      "memory usage: 33.6+ MB\n",
      "None\n"
     ]
    },
    {
     "data": {
      "text/html": [
       "<div>\n",
       "<style scoped>\n",
       "    .dataframe tbody tr th:only-of-type {\n",
       "        vertical-align: middle;\n",
       "    }\n",
       "\n",
       "    .dataframe tbody tr th {\n",
       "        vertical-align: top;\n",
       "    }\n",
       "\n",
       "    .dataframe thead th {\n",
       "        text-align: right;\n",
       "    }\n",
       "</style>\n",
       "<table border=\"1\" class=\"dataframe\">\n",
       "  <thead>\n",
       "    <tr style=\"text-align: right;\">\n",
       "      <th></th>\n",
       "      <th>order_id</th>\n",
       "      <th>brand</th>\n",
       "      <th>submit_dt</th>\n",
       "      <th>user_id</th>\n",
       "      <th>shop_id</th>\n",
       "      <th>city</th>\n",
       "      <th>cuisine_parent</th>\n",
       "      <th>basket</th>\n",
       "      <th>submit_date</th>\n",
       "      <th>submit_time</th>\n",
       "      <th>day_name</th>\n",
       "    </tr>\n",
       "  </thead>\n",
       "  <tbody>\n",
       "    <tr>\n",
       "      <th>0</th>\n",
       "      <td>2846837765</td>\n",
       "      <td>GR-EFOOD</td>\n",
       "      <td>2021-01-13 20:37:06+00:00</td>\n",
       "      <td>99103596</td>\n",
       "      <td>206490318</td>\n",
       "      <td>Βόλος</td>\n",
       "      <td>Healthy / Other</td>\n",
       "      <td>9.0</td>\n",
       "      <td>2021-01-13</td>\n",
       "      <td>20:37:06</td>\n",
       "      <td>Wednesday</td>\n",
       "    </tr>\n",
       "    <tr>\n",
       "      <th>1</th>\n",
       "      <td>2878146359</td>\n",
       "      <td>GR-EFOOD</td>\n",
       "      <td>2021-01-22 14:28:57+00:00</td>\n",
       "      <td>77179398</td>\n",
       "      <td>206490318</td>\n",
       "      <td>Βόλος</td>\n",
       "      <td>Healthy / Other</td>\n",
       "      <td>7.0</td>\n",
       "      <td>2021-01-22</td>\n",
       "      <td>14:28:57</td>\n",
       "      <td>Friday</td>\n",
       "    </tr>\n",
       "    <tr>\n",
       "      <th>2</th>\n",
       "      <td>2904155390</td>\n",
       "      <td>GR-EFOOD</td>\n",
       "      <td>2021-01-29 13:52:24+00:00</td>\n",
       "      <td>7233822</td>\n",
       "      <td>206490318</td>\n",
       "      <td>Βόλος</td>\n",
       "      <td>Healthy / Other</td>\n",
       "      <td>6.3</td>\n",
       "      <td>2021-01-29</td>\n",
       "      <td>13:52:24</td>\n",
       "      <td>Friday</td>\n",
       "    </tr>\n",
       "    <tr>\n",
       "      <th>3</th>\n",
       "      <td>2867086278</td>\n",
       "      <td>GR-EFOOD</td>\n",
       "      <td>2021-01-19 12:19:59+00:00</td>\n",
       "      <td>68621466</td>\n",
       "      <td>206490318</td>\n",
       "      <td>Βόλος</td>\n",
       "      <td>Healthy / Other</td>\n",
       "      <td>7.0</td>\n",
       "      <td>2021-01-19</td>\n",
       "      <td>12:19:59</td>\n",
       "      <td>Tuesday</td>\n",
       "    </tr>\n",
       "    <tr>\n",
       "      <th>4</th>\n",
       "      <td>2875723043</td>\n",
       "      <td>GR-EFOOD</td>\n",
       "      <td>2021-01-21 20:08:59+00:00</td>\n",
       "      <td>17007258</td>\n",
       "      <td>206490318</td>\n",
       "      <td>Βόλος</td>\n",
       "      <td>Healthy / Other</td>\n",
       "      <td>11.8</td>\n",
       "      <td>2021-01-21</td>\n",
       "      <td>20:08:59</td>\n",
       "      <td>Thursday</td>\n",
       "    </tr>\n",
       "  </tbody>\n",
       "</table>\n",
       "</div>"
      ],
      "text/plain": [
       "     order_id     brand                 submit_dt   user_id    shop_id   city  \\\n",
       "0  2846837765  GR-EFOOD 2021-01-13 20:37:06+00:00  99103596  206490318  Βόλος   \n",
       "1  2878146359  GR-EFOOD 2021-01-22 14:28:57+00:00  77179398  206490318  Βόλος   \n",
       "2  2904155390  GR-EFOOD 2021-01-29 13:52:24+00:00   7233822  206490318  Βόλος   \n",
       "3  2867086278  GR-EFOOD 2021-01-19 12:19:59+00:00  68621466  206490318  Βόλος   \n",
       "4  2875723043  GR-EFOOD 2021-01-21 20:08:59+00:00  17007258  206490318  Βόλος   \n",
       "\n",
       "    cuisine_parent  basket submit_date submit_time   day_name  \n",
       "0  Healthy / Other     9.0  2021-01-13    20:37:06  Wednesday  \n",
       "1  Healthy / Other     7.0  2021-01-22    14:28:57     Friday  \n",
       "2  Healthy / Other     6.3  2021-01-29    13:52:24     Friday  \n",
       "3  Healthy / Other     7.0  2021-01-19    12:19:59    Tuesday  \n",
       "4  Healthy / Other    11.8  2021-01-21    20:08:59   Thursday  "
      ]
     },
     "execution_count": 4,
     "metadata": {},
     "output_type": "execute_result"
    }
   ],
   "source": [
    "# Split the submit_dt column into date and time, creating two new columns \n",
    "orders_Jan21['submit_date'] = orders_Jan21['submit_dt'].dt.date\n",
    "orders_Jan21['submit_time'] = orders_Jan21['submit_dt'].dt.time\n",
    "orders_Jan21['day_name'] = orders_Jan21['submit_dt'].dt.day_name()\n",
    "\n",
    "print(orders_Jan21.info())\n",
    "orders_Jan21.head()"
   ]
  },
  {
   "cell_type": "markdown",
   "id": "public-protein",
   "metadata": {},
   "source": [
    "*On the next step, we create a new column that holds the part of the day when the order was made.*"
   ]
  },
  {
   "cell_type": "code",
   "execution_count": 5,
   "id": "green-sharp",
   "metadata": {
    "scrolled": true
   },
   "outputs": [
    {
     "data": {
      "text/plain": [
       "Evening      191523\n",
       "Afternoon    130450\n",
       "Morning       66801\n",
       "Night         11226\n",
       "Name: part_of_day, dtype: int64"
      ]
     },
     "execution_count": 5,
     "metadata": {},
     "output_type": "execute_result"
    }
   ],
   "source": [
    "orders_Jan21['part_of_day'] = pd.cut(orders_Jan21.submit_dt.dt.hour, 4, labels = ['Night','Morning','Afternoon','Evening'])\n",
    "\n",
    "orders_Jan21.head(5)\n",
    "\n",
    "orders_Jan21['part_of_day'].value_counts()\n",
    "# orders_Jan21[orders_Jan21['part_of_day'].isna()]\n"
   ]
  },
  {
   "cell_type": "markdown",
   "id": "healthy-genius",
   "metadata": {},
   "source": [
    "##### b. Summary Statistics on the orders data"
   ]
  },
  {
   "cell_type": "code",
   "execution_count": 6,
   "id": "charming-butter",
   "metadata": {
    "scrolled": true
   },
   "outputs": [
    {
     "data": {
      "text/plain": [
       "count    400000.000000\n",
       "mean          8.723202\n",
       "std           6.535030\n",
       "min           0.000000\n",
       "25%           4.480000\n",
       "50%           6.800000\n",
       "75%          11.200000\n",
       "max         151.850000\n",
       "Name: basket, dtype: float64"
      ]
     },
     "execution_count": 6,
     "metadata": {},
     "output_type": "execute_result"
    }
   ],
   "source": [
    "# Have a look in the basket values\n",
    "orders_Jan21.basket.describe()"
   ]
  },
  {
   "cell_type": "markdown",
   "id": "illegal-lodging",
   "metadata": {},
   "source": [
    "From the summary above we can see that half of the orders had 6.8 or less items in their basket"
   ]
  },
  {
   "cell_type": "code",
   "execution_count": 7,
   "id": "encouraging-warrant",
   "metadata": {
    "scrolled": true
   },
   "outputs": [
    {
     "data": {
      "text/plain": [
       "<matplotlib.legend.Legend at 0x1ebdb008760>"
      ]
     },
     "execution_count": 7,
     "metadata": {},
     "output_type": "execute_result"
    },
    {
     "data": {
      "image/png": "[encoded data removed]",
      "text/plain": [
       "<Figure size 432x288 with 1 Axes>"
      ]
     },
     "metadata": {
      "needs_background": "light"
     },
     "output_type": "display_data"
    }
   ],
   "source": [
    "orders_Jan21.groupby(['submit_date', 'cuisine_parent'])['order_id'].count().unstack().plot.bar(stacked=True).legend(bbox_to_anchor=(1.0, 1.0))"
   ]
  },
  {
   "cell_type": "code",
   "execution_count": 8,
   "id": "flying-saudi",
   "metadata": {},
   "outputs": [
    {
     "data": {
      "text/plain": [
       "<matplotlib.legend.Legend at 0x1ebe5ec2250>"
      ]
     },
     "execution_count": 8,
     "metadata": {},
     "output_type": "execute_result"
    },
    {
     "data": {
      "image/png": "[encoded data removed]",
      "text/plain": [
       "<Figure size 432x288 with 1 Axes>"
      ]
     },
     "metadata": {
      "needs_background": "light"
     },
     "output_type": "display_data"
    }
   ],
   "source": [
    "orders_Jan21.groupby(['submit_date', 'day_name'])['order_id'].count().unstack().plot.bar(stacked=True).legend(bbox_to_anchor=(1.0, 1.0))"
   ]
  },
  {
   "cell_type": "markdown",
   "id": "surface-suite",
   "metadata": {},
   "source": [
    "We can notice an uptrend on total orders made per day in Jan-21, with a high on the 29th.\n",
    "We can also see higher volumes on Fridays, Saturdays, Sundays"
   ]
  },
  {
   "cell_type": "code",
   "execution_count": 9,
   "id": "pregnant-arlington",
   "metadata": {
    "scrolled": true
   },
   "outputs": [
    {
     "data": {
      "text/plain": [
       "<AxesSubplot:xlabel='cuisine_parent'>"
      ]
     },
     "execution_count": 9,
     "metadata": {},
     "output_type": "execute_result"
    },
    {
     "data": {
      "image/png": "[encoded data removed]",
      "text/plain": [
       "<Figure size 432x288 with 1 Axes>"
      ]
     },
     "metadata": {
      "needs_background": "light"
     },
     "output_type": "display_data"
    }
   ],
   "source": [
    "# orders_Jan21.groupby(orders_Jan21.submit_dt.dt.hour).count().part_of_day\n",
    "\n",
    "orders_Jan21.groupby(['cuisine_parent', 'part_of_day'])['order_id'].count().unstack().plot.bar(stacked=True)"
   ]
  },
  {
   "cell_type": "markdown",
   "id": "indoor-berkeley",
   "metadata": {},
   "source": [
    "As expected the vast majority of morning orders are for Breakfast, however, less than half of the Breakfast orders are happening in the morning"
   ]
  },
  {
   "cell_type": "code",
   "execution_count": 10,
   "id": "simplified-management",
   "metadata": {},
   "outputs": [
    {
     "data": {
      "text/plain": [
       "array([[<AxesSubplot:title={'center':'Night'}>,\n",
       "        <AxesSubplot:title={'center':'Morning'}>],\n",
       "       [<AxesSubplot:title={'center':'Afternoon'}>,\n",
       "        <AxesSubplot:title={'center':'Evening'}>]], dtype=object)"
      ]
     },
     "execution_count": 10,
     "metadata": {},
     "output_type": "execute_result"
    },
    {
     "data": {
      "image/png": "[encoded data removed]",
      "text/plain": [
       "<Figure size 432x288 with 4 Axes>"
      ]
     },
     "metadata": {
      "needs_background": "light"
     },
     "output_type": "display_data"
    }
   ],
   "source": [
    "# Value distribution per time of the day\n",
    "orders_Jan21.hist(column='basket', bins = 20, by = 'part_of_day')"
   ]
  },
  {
   "cell_type": "code",
   "execution_count": 11,
   "id": "smooth-benefit",
   "metadata": {},
   "outputs": [
    {
     "data": {
      "text/plain": [
       "<AxesSubplot:>"
      ]
     },
     "execution_count": 11,
     "metadata": {},
     "output_type": "execute_result"
    },
    {
     "data": {
      "image/png": "[encoded data removed]",
      "text/plain": [
       "<Figure size 432x288 with 1 Axes>"
      ]
     },
     "metadata": {
      "needs_background": "light"
     },
     "output_type": "display_data"
    }
   ],
   "source": [
    "# Get the 20 cities with the most orders\n",
    "orders_Jan21['city'].value_counts()[1:20].plot.bar(stacked=True)"
   ]
  },
  {
   "cell_type": "markdown",
   "id": "greenhouse-walter",
   "metadata": {},
   "source": [
    "### 2. Customer view of the data"
   ]
  },
  {
   "cell_type": "markdown",
   "id": "conventional-spring",
   "metadata": {},
   "source": [
    "#### a. Customer aggregations"
   ]
  },
  {
   "cell_type": "code",
   "execution_count": 58,
   "id": "designing-degree",
   "metadata": {
    "scrolled": true
   },
   "outputs": [
    {
     "data": {
      "text/html": [
       "<div>\n",
       "<style scoped>\n",
       "    .dataframe tbody tr th:only-of-type {\n",
       "        vertical-align: middle;\n",
       "    }\n",
       "\n",
       "    .dataframe tbody tr th {\n",
       "        vertical-align: top;\n",
       "    }\n",
       "\n",
       "    .dataframe thead th {\n",
       "        text-align: right;\n",
       "    }\n",
       "</style>\n",
       "<table border=\"1\" class=\"dataframe\">\n",
       "  <thead>\n",
       "    <tr style=\"text-align: right;\">\n",
       "      <th></th>\n",
       "      <th>user_id</th>\n",
       "      <th>last_order_dt</th>\n",
       "      <th>days_since_last</th>\n",
       "      <th>total_days_ordered</th>\n",
       "      <th>orders_vol</th>\n",
       "      <th>total_value</th>\n",
       "      <th>avg_value</th>\n",
       "      <th>cuisines_count</th>\n",
       "      <th>cuisine_sets</th>\n",
       "      <th>cities</th>\n",
       "    </tr>\n",
       "  </thead>\n",
       "  <tbody>\n",
       "    <tr>\n",
       "      <th>0</th>\n",
       "      <td>27462</td>\n",
       "      <td>2021-01-06</td>\n",
       "      <td>26</td>\n",
       "      <td>1</td>\n",
       "      <td>1</td>\n",
       "      <td>10.6</td>\n",
       "      <td>10.60</td>\n",
       "      <td>1</td>\n",
       "      <td>{Traditional}</td>\n",
       "      <td>{Χανιά Κρήτη}</td>\n",
       "    </tr>\n",
       "    <tr>\n",
       "      <th>1</th>\n",
       "      <td>39238</td>\n",
       "      <td>2021-01-27</td>\n",
       "      <td>5</td>\n",
       "      <td>2</td>\n",
       "      <td>2</td>\n",
       "      <td>35.0</td>\n",
       "      <td>17.50</td>\n",
       "      <td>1</td>\n",
       "      <td>{Italian}</td>\n",
       "      <td>{Ρόδος}</td>\n",
       "    </tr>\n",
       "    <tr>\n",
       "      <th>2</th>\n",
       "      <td>41354</td>\n",
       "      <td>2021-01-28</td>\n",
       "      <td>4</td>\n",
       "      <td>4</td>\n",
       "      <td>4</td>\n",
       "      <td>29.0</td>\n",
       "      <td>7.25</td>\n",
       "      <td>2</td>\n",
       "      <td>{Meat, Breakfast}</td>\n",
       "      <td>{Αγρίνιο}</td>\n",
       "    </tr>\n",
       "    <tr>\n",
       "      <th>3</th>\n",
       "      <td>44068</td>\n",
       "      <td>2021-01-17</td>\n",
       "      <td>15</td>\n",
       "      <td>1</td>\n",
       "      <td>1</td>\n",
       "      <td>19.5</td>\n",
       "      <td>19.50</td>\n",
       "      <td>1</td>\n",
       "      <td>{Meat}</td>\n",
       "      <td>{Κέρκυρα}</td>\n",
       "    </tr>\n",
       "    <tr>\n",
       "      <th>4</th>\n",
       "      <td>49220</td>\n",
       "      <td>2021-01-04</td>\n",
       "      <td>28</td>\n",
       "      <td>1</td>\n",
       "      <td>1</td>\n",
       "      <td>5.3</td>\n",
       "      <td>5.30</td>\n",
       "      <td>1</td>\n",
       "      <td>{Creperie}</td>\n",
       "      <td>{Άρτα}</td>\n",
       "    </tr>\n",
       "  </tbody>\n",
       "</table>\n",
       "</div>"
      ],
      "text/plain": [
       "   user_id last_order_dt  days_since_last  total_days_ordered  orders_vol  \\\n",
       "0    27462    2021-01-06               26                   1           1   \n",
       "1    39238    2021-01-27                5                   2           2   \n",
       "2    41354    2021-01-28                4                   4           4   \n",
       "3    44068    2021-01-17               15                   1           1   \n",
       "4    49220    2021-01-04               28                   1           1   \n",
       "\n",
       "   total_value  avg_value  cuisines_count       cuisine_sets         cities  \n",
       "0         10.6      10.60               1      {Traditional}  {Χανιά Κρήτη}  \n",
       "1         35.0      17.50               1          {Italian}        {Ρόδος}  \n",
       "2         29.0       7.25               2  {Meat, Breakfast}      {Αγρίνιο}  \n",
       "3         19.5      19.50               1             {Meat}      {Κέρκυρα}  \n",
       "4          5.3       5.30               1         {Creperie}         {Άρτα}  "
      ]
     },
     "execution_count": 58,
     "metadata": {},
     "output_type": "execute_result"
    }
   ],
   "source": [
    "# Customer level statistics\n",
    "\n",
    "# Get the next day after the last submitted order in the dataset\n",
    "snapshot_dt = orders_Jan21['submit_dt'].max() + dt.timedelta(days=1)\n",
    "\n",
    "# Create a customer level dataset\n",
    "cust_df1 = orders_Jan21.groupby('user_id').agg(               \n",
    "                last_order_dt= ('submit_date', 'max'),\n",
    "                days_since_last= ('submit_dt', lambda d: (snapshot_dt - d.max()).days),\n",
    "                total_days_ordered= ('submit_date', 'nunique'),\n",
    "                orders_vol= ('order_id', 'count'),\n",
    "                total_value= ('basket', np.sum),\n",
    "                avg_value= ('basket', np.mean),\n",
    "                cuisines_count= ('cuisine_parent', 'nunique'),\n",
    "                cuisine_sets = ('cuisine_parent', set),\n",
    "                cities = ('city', set))\n",
    "    \n",
    "cust_df1 = cust_df1.reset_index()\n",
    "cust_df1.head()"
   ]
  },
  {
   "cell_type": "code",
   "execution_count": 60,
   "id": "accompanied-investor",
   "metadata": {
    "scrolled": true
   },
   "outputs": [
    {
     "data": {
      "text/html": [
       "<div>\n",
       "<style scoped>\n",
       "    .dataframe tbody tr th:only-of-type {\n",
       "        vertical-align: middle;\n",
       "    }\n",
       "\n",
       "    .dataframe tbody tr th {\n",
       "        vertical-align: top;\n",
       "    }\n",
       "\n",
       "    .dataframe thead th {\n",
       "        text-align: right;\n",
       "    }\n",
       "</style>\n",
       "<table border=\"1\" class=\"dataframe\">\n",
       "  <thead>\n",
       "    <tr style=\"text-align: right;\">\n",
       "      <th></th>\n",
       "      <th>user_id</th>\n",
       "      <th>last_order_dt</th>\n",
       "      <th>days_since_last</th>\n",
       "      <th>total_days_ordered</th>\n",
       "      <th>orders_vol</th>\n",
       "      <th>total_value</th>\n",
       "      <th>avg_value</th>\n",
       "      <th>cuisines_count</th>\n",
       "      <th>cuisine_sets</th>\n",
       "      <th>cities</th>\n",
       "      <th>cuisine_set</th>\n",
       "    </tr>\n",
       "  </thead>\n",
       "  <tbody>\n",
       "    <tr>\n",
       "      <th>115910</th>\n",
       "      <td>106414882</td>\n",
       "      <td>2021-01-31</td>\n",
       "      <td>1</td>\n",
       "      <td>21</td>\n",
       "      <td>33</td>\n",
       "      <td>202.3</td>\n",
       "      <td>6.130303</td>\n",
       "      <td>5</td>\n",
       "      <td>{'Traditional', 'Creperie', 'Meat', 'Breakfast...</td>\n",
       "      <td>{'Λαμία'}</td>\n",
       "      <td>{'Traditional', 'Creperie', 'Meat', 'Breakfast...</td>\n",
       "    </tr>\n",
       "    <tr>\n",
       "      <th>56428</th>\n",
       "      <td>50885108</td>\n",
       "      <td>2021-01-30</td>\n",
       "      <td>2</td>\n",
       "      <td>20</td>\n",
       "      <td>31</td>\n",
       "      <td>164.8</td>\n",
       "      <td>5.316129</td>\n",
       "      <td>2</td>\n",
       "      <td>{'Meat', 'Breakfast'}</td>\n",
       "      <td>{'Χανιά Κρήτη'}</td>\n",
       "      <td>{'Meat', 'Breakfast'}</td>\n",
       "    </tr>\n",
       "    <tr>\n",
       "      <th>48089</th>\n",
       "      <td>42623692</td>\n",
       "      <td>2021-01-31</td>\n",
       "      <td>1</td>\n",
       "      <td>17</td>\n",
       "      <td>29</td>\n",
       "      <td>278.8</td>\n",
       "      <td>9.613793</td>\n",
       "      <td>5</td>\n",
       "      <td>{'Ethnic', 'Creperie', 'Meat', 'Breakfast', 'I...</td>\n",
       "      <td>{'Αγρίνιο'}</td>\n",
       "      <td>{'Ethnic', 'Creperie', 'Meat', 'Breakfast', 'I...</td>\n",
       "    </tr>\n",
       "    <tr>\n",
       "      <th>12559</th>\n",
       "      <td>12351828</td>\n",
       "      <td>2021-01-31</td>\n",
       "      <td>1</td>\n",
       "      <td>21</td>\n",
       "      <td>28</td>\n",
       "      <td>147.4</td>\n",
       "      <td>5.264286</td>\n",
       "      <td>7</td>\n",
       "      <td>{'Street food', 'Sweets', 'Traditional', 'Crep...</td>\n",
       "      <td>{'Πάτρα'}</td>\n",
       "      <td>{'Street food', 'Sweets', 'Traditional', 'Crep...</td>\n",
       "    </tr>\n",
       "    <tr>\n",
       "      <th>98465</th>\n",
       "      <td>88123534</td>\n",
       "      <td>2021-01-30</td>\n",
       "      <td>2</td>\n",
       "      <td>20</td>\n",
       "      <td>28</td>\n",
       "      <td>118.4</td>\n",
       "      <td>4.228571</td>\n",
       "      <td>5</td>\n",
       "      <td>{'Street food', 'Traditional', 'Creperie', 'Me...</td>\n",
       "      <td>{'Αγρίνιο'}</td>\n",
       "      <td>{'Street food', 'Traditional', 'Creperie', 'Me...</td>\n",
       "    </tr>\n",
       "  </tbody>\n",
       "</table>\n",
       "</div>"
      ],
      "text/plain": [
       "          user_id last_order_dt  days_since_last  total_days_ordered  \\\n",
       "115910  106414882    2021-01-31                1                  21   \n",
       "56428    50885108    2021-01-30                2                  20   \n",
       "48089    42623692    2021-01-31                1                  17   \n",
       "12559    12351828    2021-01-31                1                  21   \n",
       "98465    88123534    2021-01-30                2                  20   \n",
       "\n",
       "        orders_vol  total_value  avg_value  cuisines_count  \\\n",
       "115910          33        202.3   6.130303               5   \n",
       "56428           31        164.8   5.316129               2   \n",
       "48089           29        278.8   9.613793               5   \n",
       "12559           28        147.4   5.264286               7   \n",
       "98465           28        118.4   4.228571               5   \n",
       "\n",
       "                                             cuisine_sets           cities  \\\n",
       "115910  {'Traditional', 'Creperie', 'Meat', 'Breakfast...        {'Λαμία'}   \n",
       "56428                               {'Meat', 'Breakfast'}  {'Χανιά Κρήτη'}   \n",
       "48089   {'Ethnic', 'Creperie', 'Meat', 'Breakfast', 'I...      {'Αγρίνιο'}   \n",
       "12559   {'Street food', 'Sweets', 'Traditional', 'Crep...        {'Πάτρα'}   \n",
       "98465   {'Street food', 'Traditional', 'Creperie', 'Me...      {'Αγρίνιο'}   \n",
       "\n",
       "                                              cuisine_set  \n",
       "115910  {'Traditional', 'Creperie', 'Meat', 'Breakfast...  \n",
       "56428                               {'Meat', 'Breakfast'}  \n",
       "48089   {'Ethnic', 'Creperie', 'Meat', 'Breakfast', 'I...  \n",
       "12559   {'Street food', 'Sweets', 'Traditional', 'Crep...  \n",
       "98465   {'Street food', 'Traditional', 'Creperie', 'Me...  "
      ]
     },
     "execution_count": 60,
     "metadata": {},
     "output_type": "execute_result"
    }
   ],
   "source": [
    "# Change the last_order_dt format to date\n",
    "cust_df1['last_order_dt'] = pd.to_datetime(cust_df1['last_order_dt']).dt.date\n",
    "\n",
    "# Change the cuisine_sets and cities format to string so we can summarise them\n",
    "cust_df1['cuisine_sets'] = cust_df1['cuisine_sets'].astype(str)\n",
    "cust_df1['cities'] = cust_df1['cities'].astype(str)\n",
    "\n",
    "# Get a view of the 5 most active customers\n",
    "cust_df1.sort_values(['orders_vol', 'cuisines_count'], ascending = False).head(5)"
   ]
  },
  {
   "cell_type": "code",
   "execution_count": 42,
   "id": "asian-fabric",
   "metadata": {
    "scrolled": true
   },
   "outputs": [
    {
     "data": {
      "text/plain": [
       "{'Meat'}                            34788\n",
       "{'Breakfast'}                       30222\n",
       "{'Italian'}                         15855\n",
       "{'Meat', 'Breakfast'}               12111\n",
       "{'Street food'}                      8546\n",
       "{'Meat', 'Italian'}                  5806\n",
       "{'Creperie'}                         5800\n",
       "{'Breakfast', 'Italian'}             4590\n",
       "{'Meat', 'Breakfast', 'Italian'}     3499\n",
       "{'Traditional'}                      2643\n",
       "{'Meat', 'Street food'}              2627\n",
       "{'Ethnic'}                           2476\n",
       "{'Street food', 'Breakfast'}         2421\n",
       "{'Meat', 'Creperie'}                 2222\n",
       "{'Creperie', 'Breakfast'}            2197\n",
       "Name: cuisine_sets, dtype: int64"
      ]
     },
     "execution_count": 42,
     "metadata": {},
     "output_type": "execute_result"
    }
   ],
   "source": [
    "# Get the 1st most appeared itemsets\n",
    "cust_df1['cuisine_sets'].value_counts()[0:15].sort_values(ascending=False)"
   ]
  },
  {
   "cell_type": "markdown",
   "id": "recreational-plaintiff",
   "metadata": {},
   "source": [
    "Customers with only Meat orders have contributed the most, with almost 35k customers have use only to order Meat"
   ]
  },
  {
   "cell_type": "markdown",
   "id": "massive-arcade",
   "metadata": {},
   "source": [
    "#### b. Customer orders per cuisine"
   ]
  },
  {
   "cell_type": "code",
   "execution_count": 15,
   "id": "monetary-terminology",
   "metadata": {
    "scrolled": true
   },
   "outputs": [
    {
     "data": {
      "text/html": [
       "<div>\n",
       "<style scoped>\n",
       "    .dataframe tbody tr th:only-of-type {\n",
       "        vertical-align: middle;\n",
       "    }\n",
       "\n",
       "    .dataframe tbody tr th {\n",
       "        vertical-align: top;\n",
       "    }\n",
       "\n",
       "    .dataframe thead th {\n",
       "        text-align: right;\n",
       "    }\n",
       "</style>\n",
       "<table border=\"1\" class=\"dataframe\">\n",
       "  <thead>\n",
       "    <tr style=\"text-align: right;\">\n",
       "      <th>cuisine_parent</th>\n",
       "      <th>user_id</th>\n",
       "      <th>Breakfast</th>\n",
       "      <th>Creperie</th>\n",
       "      <th>Ethnic</th>\n",
       "      <th>Healthy / Other</th>\n",
       "      <th>Italian</th>\n",
       "      <th>Meat</th>\n",
       "      <th>Street food</th>\n",
       "      <th>Sweets</th>\n",
       "      <th>Traditional</th>\n",
       "      <th>cuisine_choice</th>\n",
       "    </tr>\n",
       "  </thead>\n",
       "  <tbody>\n",
       "    <tr>\n",
       "      <th>0</th>\n",
       "      <td>27462</td>\n",
       "      <td>0</td>\n",
       "      <td>0</td>\n",
       "      <td>0</td>\n",
       "      <td>0</td>\n",
       "      <td>0</td>\n",
       "      <td>0</td>\n",
       "      <td>0</td>\n",
       "      <td>0</td>\n",
       "      <td>1</td>\n",
       "      <td>Traditional</td>\n",
       "    </tr>\n",
       "    <tr>\n",
       "      <th>1</th>\n",
       "      <td>39238</td>\n",
       "      <td>0</td>\n",
       "      <td>0</td>\n",
       "      <td>0</td>\n",
       "      <td>0</td>\n",
       "      <td>2</td>\n",
       "      <td>0</td>\n",
       "      <td>0</td>\n",
       "      <td>0</td>\n",
       "      <td>0</td>\n",
       "      <td>Italian</td>\n",
       "    </tr>\n",
       "    <tr>\n",
       "      <th>2</th>\n",
       "      <td>41354</td>\n",
       "      <td>2</td>\n",
       "      <td>0</td>\n",
       "      <td>0</td>\n",
       "      <td>0</td>\n",
       "      <td>0</td>\n",
       "      <td>2</td>\n",
       "      <td>0</td>\n",
       "      <td>0</td>\n",
       "      <td>0</td>\n",
       "      <td>Breakfast</td>\n",
       "    </tr>\n",
       "    <tr>\n",
       "      <th>3</th>\n",
       "      <td>44068</td>\n",
       "      <td>0</td>\n",
       "      <td>0</td>\n",
       "      <td>0</td>\n",
       "      <td>0</td>\n",
       "      <td>0</td>\n",
       "      <td>1</td>\n",
       "      <td>0</td>\n",
       "      <td>0</td>\n",
       "      <td>0</td>\n",
       "      <td>Meat</td>\n",
       "    </tr>\n",
       "    <tr>\n",
       "      <th>4</th>\n",
       "      <td>49220</td>\n",
       "      <td>0</td>\n",
       "      <td>1</td>\n",
       "      <td>0</td>\n",
       "      <td>0</td>\n",
       "      <td>0</td>\n",
       "      <td>0</td>\n",
       "      <td>0</td>\n",
       "      <td>0</td>\n",
       "      <td>0</td>\n",
       "      <td>Creperie</td>\n",
       "    </tr>\n",
       "    <tr>\n",
       "      <th>5</th>\n",
       "      <td>49404</td>\n",
       "      <td>0</td>\n",
       "      <td>1</td>\n",
       "      <td>0</td>\n",
       "      <td>0</td>\n",
       "      <td>0</td>\n",
       "      <td>1</td>\n",
       "      <td>0</td>\n",
       "      <td>0</td>\n",
       "      <td>0</td>\n",
       "      <td>Creperie</td>\n",
       "    </tr>\n",
       "    <tr>\n",
       "      <th>6</th>\n",
       "      <td>51842</td>\n",
       "      <td>0</td>\n",
       "      <td>0</td>\n",
       "      <td>0</td>\n",
       "      <td>0</td>\n",
       "      <td>0</td>\n",
       "      <td>1</td>\n",
       "      <td>0</td>\n",
       "      <td>0</td>\n",
       "      <td>0</td>\n",
       "      <td>Meat</td>\n",
       "    </tr>\n",
       "    <tr>\n",
       "      <th>7</th>\n",
       "      <td>52532</td>\n",
       "      <td>3</td>\n",
       "      <td>0</td>\n",
       "      <td>0</td>\n",
       "      <td>0</td>\n",
       "      <td>1</td>\n",
       "      <td>4</td>\n",
       "      <td>0</td>\n",
       "      <td>0</td>\n",
       "      <td>0</td>\n",
       "      <td>Meat</td>\n",
       "    </tr>\n",
       "    <tr>\n",
       "      <th>8</th>\n",
       "      <td>54740</td>\n",
       "      <td>0</td>\n",
       "      <td>0</td>\n",
       "      <td>0</td>\n",
       "      <td>0</td>\n",
       "      <td>0</td>\n",
       "      <td>1</td>\n",
       "      <td>0</td>\n",
       "      <td>0</td>\n",
       "      <td>0</td>\n",
       "      <td>Meat</td>\n",
       "    </tr>\n",
       "    <tr>\n",
       "      <th>9</th>\n",
       "      <td>55062</td>\n",
       "      <td>0</td>\n",
       "      <td>0</td>\n",
       "      <td>0</td>\n",
       "      <td>0</td>\n",
       "      <td>1</td>\n",
       "      <td>1</td>\n",
       "      <td>0</td>\n",
       "      <td>0</td>\n",
       "      <td>0</td>\n",
       "      <td>Italian</td>\n",
       "    </tr>\n",
       "  </tbody>\n",
       "</table>\n",
       "</div>"
      ],
      "text/plain": [
       "cuisine_parent  user_id  Breakfast  Creperie  Ethnic  Healthy / Other  \\\n",
       "0                 27462          0         0       0                0   \n",
       "1                 39238          0         0       0                0   \n",
       "2                 41354          2         0       0                0   \n",
       "3                 44068          0         0       0                0   \n",
       "4                 49220          0         1       0                0   \n",
       "5                 49404          0         1       0                0   \n",
       "6                 51842          0         0       0                0   \n",
       "7                 52532          3         0       0                0   \n",
       "8                 54740          0         0       0                0   \n",
       "9                 55062          0         0       0                0   \n",
       "\n",
       "cuisine_parent  Italian  Meat  Street food  Sweets  Traditional cuisine_choice  \n",
       "0                     0     0            0       0            1    Traditional  \n",
       "1                     2     0            0       0            0        Italian  \n",
       "2                     0     2            0       0            0      Breakfast  \n",
       "3                     0     1            0       0            0           Meat  \n",
       "4                     0     0            0       0            0       Creperie  \n",
       "5                     0     1            0       0            0       Creperie  \n",
       "6                     0     1            0       0            0           Meat  \n",
       "7                     1     4            0       0            0           Meat  \n",
       "8                     0     1            0       0            0           Meat  \n",
       "9                     1     1            0       0            0        Italian  "
      ]
     },
     "execution_count": 15,
     "metadata": {},
     "output_type": "execute_result"
    }
   ],
   "source": [
    "# Find the cuisine first choice of each customer\n",
    "cust_csn = orders_Jan21.pivot_table('basket', index = 'user_id', columns = 'cuisine_parent', aggfunc = 'count', fill_value = 0).reset_index()\n",
    "cust_csn['cuisine_choice'] = cust_csn.loc[:, 'Breakfast':'Traditional'].idxmax(axis=1)\n",
    "cust_csn.head(10)"
   ]
  },
  {
   "cell_type": "code",
   "execution_count": 16,
   "id": "rotary-afghanistan",
   "metadata": {},
   "outputs": [
    {
     "data": {
      "text/plain": [
       "<AxesSubplot:>"
      ]
     },
     "execution_count": 16,
     "metadata": {},
     "output_type": "execute_result"
    },
    {
     "data": {
      "image/png": "[encoded data removed]",
      "text/plain": [
       "<Figure size 432x288 with 1 Axes>"
      ]
     },
     "metadata": {
      "needs_background": "light"
     },
     "output_type": "display_data"
    }
   ],
   "source": [
    "cust_csn['cuisine_choice'].value_counts().plot.bar()"
   ]
  },
  {
   "cell_type": "markdown",
   "id": "reserved-subject",
   "metadata": {},
   "source": [
    "On the chart above we can see that most of the customers' order coffee (Breakfast) more often than other cuisines, however we can't have a clear view since some customers have made the same amount of orders in more than one cuisine"
   ]
  },
  {
   "cell_type": "code",
   "execution_count": null,
   "id": "productive-tulsa",
   "metadata": {},
   "outputs": [],
   "source": []
  },
  {
   "cell_type": "markdown",
   "id": "genuine-retreat",
   "metadata": {},
   "source": [
    "#### c. Join the customer datasets in order to have a final one to work for the customer segmentation"
   ]
  },
  {
   "cell_type": "code",
   "execution_count": 17,
   "id": "bacterial-planning",
   "metadata": {
    "scrolled": true
   },
   "outputs": [],
   "source": [
    "cust_df2 = cust_df1.merge(cust_csn, on = 'user_id', how = 'left')\n",
    "# cust_df2.to_csv('cust_Jan21.csv')"
   ]
  },
  {
   "cell_type": "markdown",
   "id": "parental-sender",
   "metadata": {},
   "source": [
    "*Investigate corellations*"
   ]
  },
  {
   "cell_type": "code",
   "execution_count": 18,
   "id": "assumed-musician",
   "metadata": {},
   "outputs": [
    {
     "data": {
      "text/plain": [
       "<AxesSubplot:xlabel='Breakfast', ylabel='Meat'>"
      ]
     },
     "execution_count": 18,
     "metadata": {},
     "output_type": "execute_result"
    },
    {
     "data": {
      "image/png": "[encoded data removed]",
      "text/plain": [
       "<Figure size 432x288 with 2 Axes>"
      ]
     },
     "metadata": {
      "needs_background": "light"
     },
     "output_type": "display_data"
    }
   ],
   "source": [
    "cust_df2.plot.scatter(x='Breakfast', y='Meat', c='avg_value', colormap='viridis')"
   ]
  },
  {
   "cell_type": "code",
   "execution_count": 19,
   "id": "average-effort",
   "metadata": {
    "scrolled": true
   },
   "outputs": [
    {
     "data": {
      "image/png": "[encoded data removed]",
      "text/plain": [
       "<Figure size 432x288 with 2 Axes>"
      ]
     },
     "metadata": {
      "needs_background": "light"
     },
     "output_type": "display_data"
    }
   ],
   "source": [
    "# Check if there is any correlation in customer's cousine choices\n",
    "corr_mx = cust_csn.loc[:, 'Breakfast':'Traditional'].corr()\n",
    "sn.heatmap(corr_mx)\n",
    "plt.show()\n",
    "\n",
    "# pd.plotting.scatter_matrix(cust_csn.loc[:, 'Breakfast':'Ethnic'], alpha=0.2)"
   ]
  },
  {
   "cell_type": "markdown",
   "id": "upper-landing",
   "metadata": {},
   "source": [
    "We can't notice any high corellation of the different cuisine choices; ie we don't know if a customer that orders Italian it's very likely to order from a Creperie"
   ]
  },
  {
   "cell_type": "markdown",
   "id": "patent-primary",
   "metadata": {},
   "source": [
    "### 3. Customer Segmentation"
   ]
  },
  {
   "cell_type": "markdown",
   "id": "numeric-hours",
   "metadata": {},
   "source": [
    "*Now that we have the final customer data available we can start doing the segmentations*"
   ]
  },
  {
   "cell_type": "markdown",
   "id": "treated-parts",
   "metadata": {},
   "source": [
    "#### a. Check the distribution of the orders made by customer, total basket value and average basket value*"
   ]
  },
  {
   "cell_type": "code",
   "execution_count": 20,
   "id": "conscious-turtle",
   "metadata": {
    "scrolled": false
   },
   "outputs": [
    {
     "data": {
      "image/png": "[encoded data removed]",
      "text/plain": [
       "<Figure size 864x864 with 3 Axes>"
      ]
     },
     "metadata": {
      "needs_background": "light"
     },
     "output_type": "display_data"
    }
   ],
   "source": [
    "# Plot totals distributions\n",
    "plt.figure(figsize=(12,12))\n",
    "# Plot distribution of orders volume\n",
    "plt.subplot(3, 1, 1); sn.distplot(cust_df2['orders_vol'])\n",
    "# Plot distribution of basket totals\n",
    "plt.subplot(3, 1, 2); sn.distplot(cust_df2['total_value'])\n",
    "# Plot distribution of basket average\n",
    "plt.subplot(3, 1, 3); sn.distplot(cust_df2['avg_value'])\n",
    "# Show the plot\n",
    "plt.show()"
   ]
  },
  {
   "cell_type": "code",
   "execution_count": 21,
   "id": "primary-gravity",
   "metadata": {
    "scrolled": true
   },
   "outputs": [
    {
     "data": {
      "text/plain": [
       "1     0.474778\n",
       "2     0.214318\n",
       "3     0.114824\n",
       "4     0.066951\n",
       "5     0.041828\n",
       "6     0.026946\n",
       "7     0.018686\n",
       "8     0.012322\n",
       "9     0.008524\n",
       "10    0.006106\n",
       "Name: orders_vol, dtype: float64"
      ]
     },
     "execution_count": 21,
     "metadata": {},
     "output_type": "execute_result"
    }
   ],
   "source": [
    "(cust_df2['orders_vol'].value_counts()/cust_df2['user_id'].count()).head(10)"
   ]
  },
  {
   "cell_type": "markdown",
   "id": "literary-collect",
   "metadata": {},
   "source": [
    "47% of the customers in Jan-21 have made 0nly 1 order, 33% 2-3, and only 20% have made 4 or more"
   ]
  },
  {
   "cell_type": "code",
   "execution_count": 61,
   "id": "exposed-ghost",
   "metadata": {},
   "outputs": [
    {
     "data": {
      "text/html": [
       "<div>\n",
       "<style scoped>\n",
       "    .dataframe tbody tr th:only-of-type {\n",
       "        vertical-align: middle;\n",
       "    }\n",
       "\n",
       "    .dataframe tbody tr th {\n",
       "        vertical-align: top;\n",
       "    }\n",
       "\n",
       "    .dataframe thead th {\n",
       "        text-align: right;\n",
       "    }\n",
       "</style>\n",
       "<table border=\"1\" class=\"dataframe\">\n",
       "  <thead>\n",
       "    <tr style=\"text-align: right;\">\n",
       "      <th></th>\n",
       "      <th>days_since_last</th>\n",
       "      <th>total_days_ordered</th>\n",
       "      <th>orders_vol</th>\n",
       "      <th>total_value</th>\n",
       "      <th>avg_value</th>\n",
       "    </tr>\n",
       "  </thead>\n",
       "  <tbody>\n",
       "    <tr>\n",
       "      <th>count</th>\n",
       "      <td>162954.00</td>\n",
       "      <td>162954.00</td>\n",
       "      <td>162954.00</td>\n",
       "      <td>162954.00</td>\n",
       "      <td>162954.00</td>\n",
       "    </tr>\n",
       "    <tr>\n",
       "      <th>mean</th>\n",
       "      <td>11.58</td>\n",
       "      <td>2.35</td>\n",
       "      <td>2.45</td>\n",
       "      <td>21.41</td>\n",
       "      <td>9.75</td>\n",
       "    </tr>\n",
       "    <tr>\n",
       "      <th>std</th>\n",
       "      <td>8.83</td>\n",
       "      <td>2.06</td>\n",
       "      <td>2.31</td>\n",
       "      <td>20.12</td>\n",
       "      <td>6.35</td>\n",
       "    </tr>\n",
       "    <tr>\n",
       "      <th>min</th>\n",
       "      <td>1.00</td>\n",
       "      <td>1.00</td>\n",
       "      <td>1.00</td>\n",
       "      <td>0.00</td>\n",
       "      <td>0.00</td>\n",
       "    </tr>\n",
       "    <tr>\n",
       "      <th>25%</th>\n",
       "      <td>4.00</td>\n",
       "      <td>1.00</td>\n",
       "      <td>1.00</td>\n",
       "      <td>8.40</td>\n",
       "      <td>5.50</td>\n",
       "    </tr>\n",
       "    <tr>\n",
       "      <th>50%</th>\n",
       "      <td>9.00</td>\n",
       "      <td>2.00</td>\n",
       "      <td>2.00</td>\n",
       "      <td>15.20</td>\n",
       "      <td>8.10</td>\n",
       "    </tr>\n",
       "    <tr>\n",
       "      <th>75%</th>\n",
       "      <td>18.00</td>\n",
       "      <td>3.00</td>\n",
       "      <td>3.00</td>\n",
       "      <td>27.40</td>\n",
       "      <td>12.30</td>\n",
       "    </tr>\n",
       "    <tr>\n",
       "      <th>max</th>\n",
       "      <td>31.00</td>\n",
       "      <td>22.00</td>\n",
       "      <td>33.00</td>\n",
       "      <td>449.05</td>\n",
       "      <td>134.50</td>\n",
       "    </tr>\n",
       "  </tbody>\n",
       "</table>\n",
       "</div>"
      ],
      "text/plain": [
       "       days_since_last  total_days_ordered  orders_vol  total_value  avg_value\n",
       "count        162954.00           162954.00   162954.00    162954.00  162954.00\n",
       "mean             11.58                2.35        2.45        21.41       9.75\n",
       "std               8.83                2.06        2.31        20.12       6.35\n",
       "min               1.00                1.00        1.00         0.00       0.00\n",
       "25%               4.00                1.00        1.00         8.40       5.50\n",
       "50%               9.00                2.00        2.00        15.20       8.10\n",
       "75%              18.00                3.00        3.00        27.40      12.30\n",
       "max              31.00               22.00       33.00       449.05     134.50"
      ]
     },
     "execution_count": 61,
     "metadata": {},
     "output_type": "execute_result"
    }
   ],
   "source": [
    "# Get basic summary statistics from the data\n",
    "pd.DataFrame(cust_df2.loc[:, 'days_since_last':'avg_value'].describe().round(2))"
   ]
  },
  {
   "cell_type": "markdown",
   "id": "affected-contemporary",
   "metadata": {},
   "source": [
    "*In the next step, we group customers by ordering frequency and basket value (assuming that more items give higher value). Because the distributions are not normal but right skewed, I found it better to use the quartil values as appear in the statistical summary above*"
   ]
  },
  {
   "cell_type": "code",
   "execution_count": 23,
   "id": "julian-sword",
   "metadata": {},
   "outputs": [],
   "source": [
    "# Define orders frequency segments\n",
    "def freq_seg(df):\n",
    "    if df['orders_vol'] == 1: x = 1\n",
    "    elif df['orders_vol'] <= 2: x = 2\n",
    "    elif df['orders_vol'] <= 3: x = 3\n",
    "    else: x = 4\n",
    "    return x\n",
    "    \n",
    "# Define basket totals segments\n",
    "def val_seg(df):\n",
    "    if df['total_value'] <= 8.4: x = 1\n",
    "    elif df['total_value'] <= 15.2: x = 2\n",
    "    elif df['total_value'] <= 27.4: x = 3\n",
    "    else: x =  4\n",
    "    return x\n",
    "\n",
    "# Create two new columns to hold the customer groups\n",
    "cust_df2['frequency'] = cust_df2.apply(freq_seg, axis = 1)\n",
    "cust_df2['value'] = cust_df2.apply(val_seg, axis = 1)"
   ]
  },
  {
   "cell_type": "code",
   "execution_count": 24,
   "id": "derived-segment",
   "metadata": {
    "scrolled": false
   },
   "outputs": [
    {
     "name": "stdout",
     "output_type": "stream",
     "text": [
      "1    77367\n",
      "2    34924\n",
      "4    31952\n",
      "3    18711\n",
      "Name: frequency, dtype: int64\n",
      "1    41220\n",
      "3    40683\n",
      "4    40643\n",
      "2    40408\n",
      "Name: value, dtype: int64\n"
     ]
    }
   ],
   "source": [
    "# Check if the groups are well distributed\n",
    "print(cust_df2['frequency'].value_counts())\n",
    "print(cust_df2['value'].value_counts())"
   ]
  },
  {
   "cell_type": "markdown",
   "id": "lined-light",
   "metadata": {},
   "source": [
    "We got a pretty good distribution of the customers into the 4 segments per variable"
   ]
  },
  {
   "cell_type": "code",
   "execution_count": 25,
   "id": "subsequent-opportunity",
   "metadata": {
    "scrolled": true
   },
   "outputs": [
    {
     "data": {
      "text/plain": [
       "2    36621\n",
       "3    28823\n",
       "4    24952\n",
       "8    23957\n",
       "5    18949\n",
       "6    15671\n",
       "7    13981\n",
       "Name: score, dtype: int64"
      ]
     },
     "execution_count": 25,
     "metadata": {},
     "output_type": "execute_result"
    }
   ],
   "source": [
    "# Add the segments to get a score per customer\n",
    "cust_df2['score'] = cust_df2[['frequency', 'value']].sum(axis=1)\n",
    "cust_df2['score'].value_counts()"
   ]
  },
  {
   "cell_type": "code",
   "execution_count": 26,
   "id": "practical-swing",
   "metadata": {
    "scrolled": true
   },
   "outputs": [
    {
     "data": {
      "text/plain": [
       "Promising     53775\n",
       "Potential     48601\n",
       "Not Active    36621\n",
       "Loyal         23957\n",
       "Name: level, dtype: int64"
      ]
     },
     "execution_count": 26,
     "metadata": {},
     "output_type": "execute_result"
    }
   ],
   "source": [
    "# Define customer value per segment\n",
    "def fv_level(df):\n",
    "    if df['score'] >= 8: \n",
    "        level = 'Loyal'\n",
    "    elif (df['score'] >= 5 and df['score'] < 8):\n",
    "        level =  'Potential'\n",
    "    elif (df['score'] >= 3 and df['score'] < 5):\n",
    "        level = 'Promising'\n",
    "    else:\n",
    "        level = 'Not Active'\n",
    "    return level\n",
    "           \n",
    "cust_df2['level'] = cust_df2.apply(fv_level, axis = 1)\n",
    "cust_df2['level'].value_counts()"
   ]
  },
  {
   "cell_type": "code",
   "execution_count": 27,
   "id": "decreased-detector",
   "metadata": {},
   "outputs": [
    {
     "data": {
      "text/html": [
       "<div>\n",
       "<style scoped>\n",
       "    .dataframe tbody tr th:only-of-type {\n",
       "        vertical-align: middle;\n",
       "    }\n",
       "\n",
       "    .dataframe tbody tr th {\n",
       "        vertical-align: top;\n",
       "    }\n",
       "\n",
       "    .dataframe thead th {\n",
       "        text-align: right;\n",
       "    }\n",
       "</style>\n",
       "<table border=\"1\" class=\"dataframe\">\n",
       "  <thead>\n",
       "    <tr style=\"text-align: right;\">\n",
       "      <th></th>\n",
       "      <th>user_id</th>\n",
       "      <th>last_order_dt</th>\n",
       "      <th>days_since_last</th>\n",
       "      <th>total_days_ordered</th>\n",
       "      <th>orders_vol</th>\n",
       "      <th>total_value</th>\n",
       "      <th>avg_value</th>\n",
       "      <th>cuisines_count</th>\n",
       "      <th>cuisine_sets</th>\n",
       "      <th>cities</th>\n",
       "      <th>...</th>\n",
       "      <th>Italian</th>\n",
       "      <th>Meat</th>\n",
       "      <th>Street food</th>\n",
       "      <th>Sweets</th>\n",
       "      <th>Traditional</th>\n",
       "      <th>cuisine_choice</th>\n",
       "      <th>frequency</th>\n",
       "      <th>value</th>\n",
       "      <th>score</th>\n",
       "      <th>level</th>\n",
       "    </tr>\n",
       "  </thead>\n",
       "  <tbody>\n",
       "    <tr>\n",
       "      <th>2</th>\n",
       "      <td>41354</td>\n",
       "      <td>2021-01-28</td>\n",
       "      <td>4</td>\n",
       "      <td>4</td>\n",
       "      <td>4</td>\n",
       "      <td>29.00</td>\n",
       "      <td>7.250000</td>\n",
       "      <td>2</td>\n",
       "      <td>{'Meat', 'Breakfast'}</td>\n",
       "      <td>{'Αγρίνιο'}</td>\n",
       "      <td>...</td>\n",
       "      <td>0</td>\n",
       "      <td>2</td>\n",
       "      <td>0</td>\n",
       "      <td>0</td>\n",
       "      <td>0</td>\n",
       "      <td>Breakfast</td>\n",
       "      <td>4</td>\n",
       "      <td>4</td>\n",
       "      <td>8</td>\n",
       "      <td>Loyal</td>\n",
       "    </tr>\n",
       "    <tr>\n",
       "      <th>7</th>\n",
       "      <td>52532</td>\n",
       "      <td>2021-01-22</td>\n",
       "      <td>10</td>\n",
       "      <td>8</td>\n",
       "      <td>8</td>\n",
       "      <td>74.10</td>\n",
       "      <td>9.262500</td>\n",
       "      <td>3</td>\n",
       "      <td>{'Meat', 'Breakfast', 'Italian'}</td>\n",
       "      <td>{'Ηράκλειο Κρήτη'}</td>\n",
       "      <td>...</td>\n",
       "      <td>1</td>\n",
       "      <td>4</td>\n",
       "      <td>0</td>\n",
       "      <td>0</td>\n",
       "      <td>0</td>\n",
       "      <td>Meat</td>\n",
       "      <td>4</td>\n",
       "      <td>4</td>\n",
       "      <td>8</td>\n",
       "      <td>Loyal</td>\n",
       "    </tr>\n",
       "    <tr>\n",
       "      <th>38</th>\n",
       "      <td>135792</td>\n",
       "      <td>2021-01-21</td>\n",
       "      <td>11</td>\n",
       "      <td>4</td>\n",
       "      <td>4</td>\n",
       "      <td>48.30</td>\n",
       "      <td>12.075000</td>\n",
       "      <td>2</td>\n",
       "      <td>{'Meat', 'Creperie'}</td>\n",
       "      <td>{'Λαμία'}</td>\n",
       "      <td>...</td>\n",
       "      <td>0</td>\n",
       "      <td>1</td>\n",
       "      <td>0</td>\n",
       "      <td>0</td>\n",
       "      <td>0</td>\n",
       "      <td>Creperie</td>\n",
       "      <td>4</td>\n",
       "      <td>4</td>\n",
       "      <td>8</td>\n",
       "      <td>Loyal</td>\n",
       "    </tr>\n",
       "    <tr>\n",
       "      <th>40</th>\n",
       "      <td>139150</td>\n",
       "      <td>2021-01-31</td>\n",
       "      <td>1</td>\n",
       "      <td>4</td>\n",
       "      <td>4</td>\n",
       "      <td>31.80</td>\n",
       "      <td>7.950000</td>\n",
       "      <td>1</td>\n",
       "      <td>{'Meat'}</td>\n",
       "      <td>{'Σπάρτη'}</td>\n",
       "      <td>...</td>\n",
       "      <td>0</td>\n",
       "      <td>4</td>\n",
       "      <td>0</td>\n",
       "      <td>0</td>\n",
       "      <td>0</td>\n",
       "      <td>Meat</td>\n",
       "      <td>4</td>\n",
       "      <td>4</td>\n",
       "      <td>8</td>\n",
       "      <td>Loyal</td>\n",
       "    </tr>\n",
       "    <tr>\n",
       "      <th>46</th>\n",
       "      <td>153962</td>\n",
       "      <td>2021-01-30</td>\n",
       "      <td>2</td>\n",
       "      <td>7</td>\n",
       "      <td>7</td>\n",
       "      <td>47.10</td>\n",
       "      <td>6.728571</td>\n",
       "      <td>3</td>\n",
       "      <td>{'Meat', 'Breakfast', 'Italian'}</td>\n",
       "      <td>{'Λαμία'}</td>\n",
       "      <td>...</td>\n",
       "      <td>1</td>\n",
       "      <td>2</td>\n",
       "      <td>0</td>\n",
       "      <td>0</td>\n",
       "      <td>0</td>\n",
       "      <td>Breakfast</td>\n",
       "      <td>4</td>\n",
       "      <td>4</td>\n",
       "      <td>8</td>\n",
       "      <td>Loyal</td>\n",
       "    </tr>\n",
       "    <tr>\n",
       "      <th>...</th>\n",
       "      <td>...</td>\n",
       "      <td>...</td>\n",
       "      <td>...</td>\n",
       "      <td>...</td>\n",
       "      <td>...</td>\n",
       "      <td>...</td>\n",
       "      <td>...</td>\n",
       "      <td>...</td>\n",
       "      <td>...</td>\n",
       "      <td>...</td>\n",
       "      <td>...</td>\n",
       "      <td>...</td>\n",
       "      <td>...</td>\n",
       "      <td>...</td>\n",
       "      <td>...</td>\n",
       "      <td>...</td>\n",
       "      <td>...</td>\n",
       "      <td>...</td>\n",
       "      <td>...</td>\n",
       "      <td>...</td>\n",
       "      <td>...</td>\n",
       "    </tr>\n",
       "    <tr>\n",
       "      <th>161926</th>\n",
       "      <td>197158990</td>\n",
       "      <td>2021-01-28</td>\n",
       "      <td>4</td>\n",
       "      <td>3</td>\n",
       "      <td>5</td>\n",
       "      <td>43.20</td>\n",
       "      <td>8.640000</td>\n",
       "      <td>2</td>\n",
       "      <td>{'Meat', 'Traditional'}</td>\n",
       "      <td>{'Ιωάννινα'}</td>\n",
       "      <td>...</td>\n",
       "      <td>0</td>\n",
       "      <td>3</td>\n",
       "      <td>0</td>\n",
       "      <td>0</td>\n",
       "      <td>2</td>\n",
       "      <td>Meat</td>\n",
       "      <td>4</td>\n",
       "      <td>4</td>\n",
       "      <td>8</td>\n",
       "      <td>Loyal</td>\n",
       "    </tr>\n",
       "    <tr>\n",
       "      <th>161998</th>\n",
       "      <td>197234522</td>\n",
       "      <td>2021-01-28</td>\n",
       "      <td>4</td>\n",
       "      <td>3</td>\n",
       "      <td>4</td>\n",
       "      <td>31.50</td>\n",
       "      <td>7.875000</td>\n",
       "      <td>2</td>\n",
       "      <td>{'Breakfast', 'Italian'}</td>\n",
       "      <td>{'Κοζάνη'}</td>\n",
       "      <td>...</td>\n",
       "      <td>1</td>\n",
       "      <td>0</td>\n",
       "      <td>0</td>\n",
       "      <td>0</td>\n",
       "      <td>0</td>\n",
       "      <td>Breakfast</td>\n",
       "      <td>4</td>\n",
       "      <td>4</td>\n",
       "      <td>8</td>\n",
       "      <td>Loyal</td>\n",
       "    </tr>\n",
       "    <tr>\n",
       "      <th>162220</th>\n",
       "      <td>197451504</td>\n",
       "      <td>2021-01-28</td>\n",
       "      <td>4</td>\n",
       "      <td>3</td>\n",
       "      <td>7</td>\n",
       "      <td>64.60</td>\n",
       "      <td>9.228571</td>\n",
       "      <td>5</td>\n",
       "      <td>{'Ethnic', 'Traditional', 'Creperie', 'Meat', ...</td>\n",
       "      <td>{'Ιωάννινα'}</td>\n",
       "      <td>...</td>\n",
       "      <td>0</td>\n",
       "      <td>1</td>\n",
       "      <td>0</td>\n",
       "      <td>0</td>\n",
       "      <td>1</td>\n",
       "      <td>Breakfast</td>\n",
       "      <td>4</td>\n",
       "      <td>4</td>\n",
       "      <td>8</td>\n",
       "      <td>Loyal</td>\n",
       "    </tr>\n",
       "    <tr>\n",
       "      <th>162265</th>\n",
       "      <td>197492030</td>\n",
       "      <td>2021-01-30</td>\n",
       "      <td>2</td>\n",
       "      <td>3</td>\n",
       "      <td>4</td>\n",
       "      <td>50.20</td>\n",
       "      <td>12.550000</td>\n",
       "      <td>4</td>\n",
       "      <td>{'Meat', 'Creperie', 'Breakfast', 'Italian'}</td>\n",
       "      <td>{'Λαμία'}</td>\n",
       "      <td>...</td>\n",
       "      <td>1</td>\n",
       "      <td>1</td>\n",
       "      <td>0</td>\n",
       "      <td>0</td>\n",
       "      <td>0</td>\n",
       "      <td>Breakfast</td>\n",
       "      <td>4</td>\n",
       "      <td>4</td>\n",
       "      <td>8</td>\n",
       "      <td>Loyal</td>\n",
       "    </tr>\n",
       "    <tr>\n",
       "      <th>162362</th>\n",
       "      <td>197589688</td>\n",
       "      <td>2021-01-31</td>\n",
       "      <td>1</td>\n",
       "      <td>4</td>\n",
       "      <td>4</td>\n",
       "      <td>50.22</td>\n",
       "      <td>12.555000</td>\n",
       "      <td>3</td>\n",
       "      <td>{'Breakfast', 'Sweets', 'Italian'}</td>\n",
       "      <td>{'Ηράκλειο Κρήτη'}</td>\n",
       "      <td>...</td>\n",
       "      <td>1</td>\n",
       "      <td>0</td>\n",
       "      <td>0</td>\n",
       "      <td>1</td>\n",
       "      <td>0</td>\n",
       "      <td>Breakfast</td>\n",
       "      <td>4</td>\n",
       "      <td>4</td>\n",
       "      <td>8</td>\n",
       "      <td>Loyal</td>\n",
       "    </tr>\n",
       "  </tbody>\n",
       "</table>\n",
       "<p>23957 rows × 24 columns</p>\n",
       "</div>"
      ],
      "text/plain": [
       "          user_id last_order_dt  days_since_last  total_days_ordered  \\\n",
       "2           41354    2021-01-28                4                   4   \n",
       "7           52532    2021-01-22               10                   8   \n",
       "38         135792    2021-01-21               11                   4   \n",
       "40         139150    2021-01-31                1                   4   \n",
       "46         153962    2021-01-30                2                   7   \n",
       "...           ...           ...              ...                 ...   \n",
       "161926  197158990    2021-01-28                4                   3   \n",
       "161998  197234522    2021-01-28                4                   3   \n",
       "162220  197451504    2021-01-28                4                   3   \n",
       "162265  197492030    2021-01-30                2                   3   \n",
       "162362  197589688    2021-01-31                1                   4   \n",
       "\n",
       "        orders_vol  total_value  avg_value  cuisines_count  \\\n",
       "2                4        29.00   7.250000               2   \n",
       "7                8        74.10   9.262500               3   \n",
       "38               4        48.30  12.075000               2   \n",
       "40               4        31.80   7.950000               1   \n",
       "46               7        47.10   6.728571               3   \n",
       "...            ...          ...        ...             ...   \n",
       "161926           5        43.20   8.640000               2   \n",
       "161998           4        31.50   7.875000               2   \n",
       "162220           7        64.60   9.228571               5   \n",
       "162265           4        50.20  12.550000               4   \n",
       "162362           4        50.22  12.555000               3   \n",
       "\n",
       "                                             cuisine_sets              cities  \\\n",
       "2                                   {'Meat', 'Breakfast'}         {'Αγρίνιο'}   \n",
       "7                        {'Meat', 'Breakfast', 'Italian'}  {'Ηράκλειο Κρήτη'}   \n",
       "38                                   {'Meat', 'Creperie'}           {'Λαμία'}   \n",
       "40                                               {'Meat'}          {'Σπάρτη'}   \n",
       "46                       {'Meat', 'Breakfast', 'Italian'}           {'Λαμία'}   \n",
       "...                                                   ...                 ...   \n",
       "161926                            {'Meat', 'Traditional'}        {'Ιωάννινα'}   \n",
       "161998                           {'Breakfast', 'Italian'}          {'Κοζάνη'}   \n",
       "162220  {'Ethnic', 'Traditional', 'Creperie', 'Meat', ...        {'Ιωάννινα'}   \n",
       "162265       {'Meat', 'Creperie', 'Breakfast', 'Italian'}           {'Λαμία'}   \n",
       "162362                 {'Breakfast', 'Sweets', 'Italian'}  {'Ηράκλειο Κρήτη'}   \n",
       "\n",
       "        ...  Italian  Meat  Street food  Sweets  Traditional  cuisine_choice  \\\n",
       "2       ...        0     2            0       0            0       Breakfast   \n",
       "7       ...        1     4            0       0            0            Meat   \n",
       "38      ...        0     1            0       0            0        Creperie   \n",
       "40      ...        0     4            0       0            0            Meat   \n",
       "46      ...        1     2            0       0            0       Breakfast   \n",
       "...     ...      ...   ...          ...     ...          ...             ...   \n",
       "161926  ...        0     3            0       0            2            Meat   \n",
       "161998  ...        1     0            0       0            0       Breakfast   \n",
       "162220  ...        0     1            0       0            1       Breakfast   \n",
       "162265  ...        1     1            0       0            0       Breakfast   \n",
       "162362  ...        1     0            0       1            0       Breakfast   \n",
       "\n",
       "        frequency  value  score  level  \n",
       "2               4      4      8  Loyal  \n",
       "7               4      4      8  Loyal  \n",
       "38              4      4      8  Loyal  \n",
       "40              4      4      8  Loyal  \n",
       "46              4      4      8  Loyal  \n",
       "...           ...    ...    ...    ...  \n",
       "161926          4      4      8  Loyal  \n",
       "161998          4      4      8  Loyal  \n",
       "162220          4      4      8  Loyal  \n",
       "162265          4      4      8  Loyal  \n",
       "162362          4      4      8  Loyal  \n",
       "\n",
       "[23957 rows x 24 columns]"
      ]
     },
     "execution_count": 27,
     "metadata": {},
     "output_type": "execute_result"
    }
   ],
   "source": [
    "cust_df2[cust_df2['level'] == 'Loyal']"
   ]
  },
  {
   "cell_type": "markdown",
   "id": "according-helen",
   "metadata": {},
   "source": [
    "*We can see that most of the customers had lest than "
   ]
  },
  {
   "cell_type": "code",
   "execution_count": 33,
   "id": "fossil-elimination",
   "metadata": {},
   "outputs": [
    {
     "data": {
      "text/plain": [
       "Promising     53775\n",
       "Potential     48601\n",
       "Not Active    36621\n",
       "Loyal         23957\n",
       "Name: level, dtype: int64"
      ]
     },
     "execution_count": 33,
     "metadata": {},
     "output_type": "execute_result"
    }
   ],
   "source": [
    "# View of the 4 customer levels\n",
    "cust_df2.level.value_counts()"
   ]
  },
  {
   "cell_type": "markdown",
   "id": "nuclear-genre",
   "metadata": {},
   "source": [
    "### 4. Next Steps"
   ]
  },
  {
   "cell_type": "markdown",
   "id": "nasty-vintage",
   "metadata": {},
   "source": [
    "#### Export the data for the report"
   ]
  },
  {
   "cell_type": "code",
   "execution_count": 62,
   "id": "fifteen-municipality",
   "metadata": {},
   "outputs": [],
   "source": [
    "cust_df2.to_csv('cust_final.csv')"
   ]
  },
  {
   "cell_type": "markdown",
   "id": "whole-chancellor",
   "metadata": {},
   "source": [
    "Work with data is now done. We will forward with the presentation and the final suggestion using Power BI."
   ]
  }
 ],
 "metadata": {
  "kernelspec": {
   "display_name": "Python 3",
   "language": "python",
   "name": "python3"
  },
  "language_info": {
   "codemirror_mode": {
    "name": "ipython",
    "version": 3
   },
   "file_extension": ".py",
   "mimetype": "text/x-python",
   "name": "python",
   "nbconvert_exporter": "python",
   "pygments_lexer": "ipython3",
   "version": "3.8.5"
  }
 },
 "nbformat": 4,
 "nbformat_minor": 5
}
